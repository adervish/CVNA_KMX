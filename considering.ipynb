{
 "cells": [
  {
   "cell_type": "code",
   "execution_count": 2,
   "metadata": {},
   "outputs": [],
   "source": [
    "import psycopg2 as pg\n",
    "import json\n",
    "import sys\n",
    "import pandas.io.sql as psql\n",
    "import plotly.plotly as py \n",
    "\n",
    "import numpy\n",
    "\n",
    "try:\n",
    "    conn = pg.connect(host='localhost')\n",
    "except:\n",
    "    print(\"I am unable to connect to the database\")\n",
    "    \n",
    "cur = conn.cursor()\n",
    "cur.execute(\"SET search_path = carvana\")\n",
    "    "
   ]
  },
  {
   "cell_type": "code",
   "execution_count": 3,
   "metadata": {},
   "outputs": [
    {
     "data": {
      "text/html": [
       "<script>requirejs.config({paths: { 'plotly': ['https://cdn.plot.ly/plotly-latest.min']},});if(!window.Plotly) {{require(['plotly'],function(plotly) {window.Plotly=plotly;});}}</script>"
      ],
      "text/vnd.plotly.v1+html": [
       "<script>requirejs.config({paths: { 'plotly': ['https://cdn.plot.ly/plotly-latest.min']},});if(!window.Plotly) {{require(['plotly'],function(plotly) {window.Plotly=plotly;});}}</script>"
      ]
     },
     "metadata": {},
     "output_type": "display_data"
    }
   ],
   "source": [
    "from plotly import __version__\n",
    "from plotly.offline import download_plotlyjs, init_notebook_mode, plot, iplot\n",
    "from plotly.graph_objs import Scatter, Figure, Layout\n",
    "import plotly.graph_objs as go\n",
    "\n",
    "init_notebook_mode(connected=True)\n",
    "\n",
    "import plotly\n",
    "plotly.tools.set_credentials_file(username='adervish', api_key='Ddss5qpHA8iN2IWuqDJs')"
   ]
  },
  {
   "cell_type": "code",
   "execution_count": 8,
   "metadata": {},
   "outputs": [],
   "source": [
    "dataframe = psql.read_sql(\"\"\" SELECT k.year,\n",
    "    k.model,\n",
    "    k.make,\n",
    "    k.miles AS k_miles,\n",
    "    (c.miles / 1000::numeric)::integer AS c_miles,\n",
    "    k.miles - (c.miles / 1000::numeric)::integer::numeric AS miles_diff,\n",
    "    k.price AS k_price,\n",
    "    c.price AS c_price,\n",
    "    k.price::text::double precision - c.price::text::double precision AS price_diff,\n",
    "    k.descr AS k_trim,\n",
    "    k.drivetrain::text AS k_drivetrain,\n",
    "    c.\"trim\" AS c_trim\n",
    "   FROM kmx_vehicles k,\n",
    "    carvana_vehicles c\n",
    "  WHERE k.model = '\"Civic\"' \n",
    "      and k.year = c.year \n",
    "      AND k.model = c.model \n",
    "      AND k.make = c.make \n",
    "      AND k.make = '\"Honda\"'::jsonb AND abs(k.miles - (c.miles / 1000::numeric)::integer::numeric) < 3::numeric \n",
    "      AND k.descr::text ~~* (('%'::text || btrim(c.\"trim\"::text, '\"'::text)) || '\"'::text) AND (k.drivetrain::text = '\"2WD\"'::text OR c.morefeatures ~~ (('%'::text || btrim(k.drivetrain::text, '\"'::text)) || '%'::text))\n",
    "  ORDER BY k.make, k.model, k.year\"\"\", conn)"
   ]
  },
  {
   "cell_type": "code",
   "execution_count": 10,
   "metadata": {},
   "outputs": [
    {
     "data": {
      "text/html": [
       "<iframe id=\"igraph\" scrolling=\"no\" style=\"border:none;\" seamless=\"seamless\" src=\"https://plot.ly/~adervish/45.embed\" height=\"525px\" width=\"100%\"></iframe>"
      ],
      "text/plain": [
       "<plotly.tools.PlotlyDisplay object>"
      ]
     },
     "execution_count": 10,
     "metadata": {},
     "output_type": "execute_result"
    }
   ],
   "source": [
    "data = [go.Histogram(x=dataframe['price_diff'])]\n",
    "py.iplot(data, filename='honda civic price difference')"
   ]
  },
  {
   "cell_type": "code",
   "execution_count": null,
   "metadata": {},
   "outputs": [],
   "source": []
  },
  {
   "cell_type": "code",
   "execution_count": null,
   "metadata": {},
   "outputs": [],
   "source": []
  }
 ],
 "metadata": {
  "kernelspec": {
   "display_name": "Python 3",
   "language": "python",
   "name": "python3"
  },
  "language_info": {
   "codemirror_mode": {
    "name": "ipython",
    "version": 3
   },
   "file_extension": ".py",
   "mimetype": "text/x-python",
   "name": "python",
   "nbconvert_exporter": "python",
   "pygments_lexer": "ipython3",
   "version": "3.6.4"
  }
 },
 "nbformat": 4,
 "nbformat_minor": 2
}
