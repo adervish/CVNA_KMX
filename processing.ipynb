{
 "cells": [
  {
   "cell_type": "code",
   "execution_count": 4,
   "metadata": {},
   "outputs": [],
   "source": [
    "import json\n",
    "import os \n",
    "import pandas as pd\n"
   ]
  },
  {
   "cell_type": "code",
   "execution_count": 5,
   "metadata": {},
   "outputs": [],
   "source": [
    "agg = []\n",
    "for jq in [fi for fi in os.listdir() if '.json' in fi]:\n",
    "   with open(jq,'r') as f:\n",
    "    agg.extend(json.loads(f.read()))\n"
   ]
  },
  {
   "cell_type": "code",
   "execution_count": 6,
   "metadata": {},
   "outputs": [],
   "source": [
    "#[len(a) for a in agg]\n",
    "car_list = []\n",
    "for ag in agg:\n",
    "    car_list.extend(ag)\n"
   ]
  },
  {
   "cell_type": "code",
   "execution_count": 22,
   "metadata": {},
   "outputs": [],
   "source": [
    "feature_list = ['TotalPrice','Odometer','Model','Discount',\"INTERIOR\",'Year','AUTOPILOT',\"DRIVE\",'DECOR','ADL_OPTS','TRIM']"
   ]
  },
  {
   "cell_type": "code",
   "execution_count": 23,
   "metadata": {},
   "outputs": [
    {
     "data": {
      "text/plain": [
       "dict_keys(['InTransit', 'ADL_OPTS', 'AUTOPILOT', 'ActualGAInDate', 'ActualVesselArrivalDate', 'AddToInventoryReason', 'BATTERY', 'CABIN_CONFIG', 'CPORefurbishmentStatus', 'CPOWarrantyType', 'City', 'CompositorViews', 'CountryCode', 'CountryCodes', 'CountryOfOrigin', 'CurrencyCode', 'CurrencyCodes', 'CustomsClearance', 'DECOR', 'DRIVE', 'DamageDisclosure', 'DamageDisclosureGuids', 'Decommissioned', 'DestinationHandlingFee', 'DestinationPortCode', 'Discount', 'DiscountPercentages', 'DisplayWarranty', 'DocumentSyncDate', 'EtaToCurrent', 'EtaToDelivery', 'ExpectedVesselArrivalDate', 'FactoryCode', 'FactoryGatedDate', 'FinplatDetails', 'FixedAssets', 'FlexibleOptionsData', 'HEADLINER', 'HOVStatus', 'HasDamagePhotos', 'HasOptionCodeData', 'INTERIOR', 'InspectionDocumentGuid', 'InventoryPrice', 'IsAvailableForMatch', 'IsDemo', 'IsInMatchQueue', 'IsLegacy', 'IsSoftMatched', 'IsTegra', 'Language', 'Languages', 'LastTransformationSuccess', 'LeaseAvailabilityDate', 'LexiconDefaultOptions', 'ListingReasonsCombined', 'ListingType', 'ListingTypes', 'LoanDetails', 'ManufacturingOptionCodeList', 'MarketingInUseDate', 'MatchCounter', 'MatchType', 'MetroName', 'Model', 'MonroneyPrice', 'NeedsReview', 'NotInMatchQueueReason', 'OTHER_OPTS', 'Odometer', 'OdometerType', 'OptionCodeData', 'OptionCodeList', 'OptionCodeListDisplayOnly', 'OptionCodePricing', 'OrderFee', 'OriginalDeliveryDate', 'OriginalInCustomerGarageDate', 'PAINT', 'PlannedGADailyDate', 'PreownedWarrantyEligibility', 'Price', 'PurchasePrice', 'ROOF', 'RefurbishmentCompletionETA', 'RegistrationDetails', 'SalesMetro', 'SalesNotes', 'StateProvince', 'StateProvinceLongName', 'TRIM', 'TaxScheme', 'ThirdPartyHistoryUrl', 'TilburgFactoryGatedDate', 'TilburgGAInDate', 'TitleReceivedOwnershipTransferDate', 'TitleStatus', 'TitleSubtype', 'TotalPrice', 'TransportFees', 'TrimCode', 'TrimName', 'Trt', 'TrtName', 'UrlToken', 'UsedVehicleLimitedWarrantyMile', 'UsedVehicleLimitedWarrantyYear', 'UsedVehiclePhotosCompletedDate', 'VIN', 'Variant', 'VehicleHistory', 'VehiclePhotos', 'VehicleRegion', 'VehicleStatusDisplay', 'VehicleSubType', 'VehicleType', 'VesselDepartureDate', 'VesselName', 'VoyageNumber', 'Vrl', 'VrlName', 'WHEELS', 'WarrantyBatteryExpDate', 'WarrantyBatteryIsExpired', 'WarrantyBatteryMile', 'WarrantyBatteryYear', 'WarrantyData', 'WarrantyDriveUnitExpDate', 'WarrantyDriveUnitYear', 'WarrantyMile', 'WarrantyVehicleExpDate', 'WarrantyVehicleIsExpired', 'WarrantyYear', 'Year', 'WarrantyDriveUnitMile', 'DeliveryDateDisplay', 'TransportationFee', 'HashMap', 'OptionCodeSpecs', 'CompositorViewsCustom', 'IsRangeStandard', 'geoPoints', 'HasMarketingOptions'])"
      ]
     },
     "execution_count": 23,
     "metadata": {},
     "output_type": "execute_result"
    }
   ],
   "source": [
    "car_list[0].keys()"
   ]
  },
  {
   "cell_type": "code",
   "execution_count": 24,
   "metadata": {},
   "outputs": [],
   "source": [
    "def parse_list_data(l):\n",
    "    if type(l) == list:\n",
    "        if len(l) >= 2:\n",
    "            return l\n",
    "        else:\n",
    "            return l[0]\n",
    "    else:\n",
    "        return l\n",
    "\n",
    "df_pre_check = []\n",
    "for idx,val in enumerate(car_list):\n",
    "    if type(val) == str:\n",
    "        pass\n",
    "    else:\n",
    "        df_pre_check.append({d:parse_list_data(car_list[idx][d]) for d in car_list[idx].keys() if d in feature_list})\n",
    "\n"
   ]
  },
  {
   "cell_type": "code",
   "execution_count": 26,
   "metadata": {},
   "outputs": [],
   "source": [
    "car_df = pd.DataFrame(df_pre_check,columns=feature_list)\n",
    "car_df.to_csv('car_df.csv')"
   ]
  },
  {
   "cell_type": "code",
   "execution_count": 27,
   "metadata": {},
   "outputs": [
    {
     "data": {
      "text/html": [
       "<div>\n",
       "<style scoped>\n",
       "    .dataframe tbody tr th:only-of-type {\n",
       "        vertical-align: middle;\n",
       "    }\n",
       "\n",
       "    .dataframe tbody tr th {\n",
       "        vertical-align: top;\n",
       "    }\n",
       "\n",
       "    .dataframe thead th {\n",
       "        text-align: right;\n",
       "    }\n",
       "</style>\n",
       "<table border=\"1\" class=\"dataframe\">\n",
       "  <thead>\n",
       "    <tr style=\"text-align: right;\">\n",
       "      <th></th>\n",
       "      <th>TotalPrice</th>\n",
       "      <th>Odometer</th>\n",
       "      <th>Model</th>\n",
       "      <th>Discount</th>\n",
       "      <th>INTERIOR</th>\n",
       "      <th>Year</th>\n",
       "      <th>AUTOPILOT</th>\n",
       "      <th>DRIVE</th>\n",
       "      <th>DECOR</th>\n",
       "      <th>ADL_OPTS</th>\n",
       "      <th>TRIM</th>\n",
       "    </tr>\n",
       "  </thead>\n",
       "  <tbody>\n",
       "    <tr>\n",
       "      <th>184</th>\n",
       "      <td>45000</td>\n",
       "      <td>38224</td>\n",
       "      <td>m3</td>\n",
       "      <td>0</td>\n",
       "      <td>PREMIUM_BLACK</td>\n",
       "      <td>2018</td>\n",
       "      <td>AUTOPILOT</td>\n",
       "      <td>None</td>\n",
       "      <td>None</td>\n",
       "      <td>REAR_HEATED_SEATS</td>\n",
       "      <td>LRRWD</td>\n",
       "    </tr>\n",
       "    <tr>\n",
       "      <th>185</th>\n",
       "      <td>46500</td>\n",
       "      <td>24370</td>\n",
       "      <td>m3</td>\n",
       "      <td>0</td>\n",
       "      <td>PREMIUM_BLACK</td>\n",
       "      <td>2018</td>\n",
       "      <td>AUTOPILOT</td>\n",
       "      <td>None</td>\n",
       "      <td>None</td>\n",
       "      <td>REAR_HEATED_SEATS</td>\n",
       "      <td>LRRWD</td>\n",
       "    </tr>\n",
       "    <tr>\n",
       "      <th>186</th>\n",
       "      <td>46900</td>\n",
       "      <td>39796</td>\n",
       "      <td>m3</td>\n",
       "      <td>0</td>\n",
       "      <td>PREMIUM_BLACK</td>\n",
       "      <td>2018</td>\n",
       "      <td>AUTOPILOT_FULL_SELF_DRIVING</td>\n",
       "      <td>None</td>\n",
       "      <td>None</td>\n",
       "      <td>REAR_HEATED_SEATS</td>\n",
       "      <td>MRRWD</td>\n",
       "    </tr>\n",
       "    <tr>\n",
       "      <th>187</th>\n",
       "      <td>47600</td>\n",
       "      <td>78032</td>\n",
       "      <td>m3</td>\n",
       "      <td>0</td>\n",
       "      <td>PREMIUM_BLACK</td>\n",
       "      <td>2018</td>\n",
       "      <td>AUTOPILOT_FULL_SELF_DRIVING</td>\n",
       "      <td>None</td>\n",
       "      <td>None</td>\n",
       "      <td>[ACCELERATION_BOOST, REAR_HEATED_SEATS]</td>\n",
       "      <td>LRAWD</td>\n",
       "    </tr>\n",
       "    <tr>\n",
       "      <th>188</th>\n",
       "      <td>47900</td>\n",
       "      <td>39153</td>\n",
       "      <td>m3</td>\n",
       "      <td>0</td>\n",
       "      <td>PREMIUM_WHITE</td>\n",
       "      <td>2019</td>\n",
       "      <td>AUTOPILOT_FULL_SELF_DRIVING</td>\n",
       "      <td>None</td>\n",
       "      <td>None</td>\n",
       "      <td>REAR_HEATED_SEATS</td>\n",
       "      <td>M3RWD</td>\n",
       "    </tr>\n",
       "    <tr>\n",
       "      <th>...</th>\n",
       "      <td>...</td>\n",
       "      <td>...</td>\n",
       "      <td>...</td>\n",
       "      <td>...</td>\n",
       "      <td>...</td>\n",
       "      <td>...</td>\n",
       "      <td>...</td>\n",
       "      <td>...</td>\n",
       "      <td>...</td>\n",
       "      <td>...</td>\n",
       "      <td>...</td>\n",
       "    </tr>\n",
       "    <tr>\n",
       "      <th>343</th>\n",
       "      <td>59700</td>\n",
       "      <td>14112</td>\n",
       "      <td>m3</td>\n",
       "      <td>0</td>\n",
       "      <td>PREMIUM_BLACK</td>\n",
       "      <td>2018</td>\n",
       "      <td>AUTOPILOT_FULL_SELF_DRIVING</td>\n",
       "      <td>None</td>\n",
       "      <td>None</td>\n",
       "      <td>REAR_HEATED_SEATS</td>\n",
       "      <td>PAWD</td>\n",
       "    </tr>\n",
       "    <tr>\n",
       "      <th>344</th>\n",
       "      <td>60400</td>\n",
       "      <td>15144</td>\n",
       "      <td>m3</td>\n",
       "      <td>0</td>\n",
       "      <td>PREMIUM_BLACK</td>\n",
       "      <td>2019</td>\n",
       "      <td>AUTOPILOT_FULL_SELF_DRIVING</td>\n",
       "      <td>None</td>\n",
       "      <td>None</td>\n",
       "      <td>[ACCELERATION_BOOST, REAR_HEATED_SEATS]</td>\n",
       "      <td>LRAWD</td>\n",
       "    </tr>\n",
       "    <tr>\n",
       "      <th>345</th>\n",
       "      <td>63100</td>\n",
       "      <td>21040</td>\n",
       "      <td>m3</td>\n",
       "      <td>0</td>\n",
       "      <td>PREMIUM_BLACK</td>\n",
       "      <td>2019</td>\n",
       "      <td>AUTOPILOT_FULL_SELF_DRIVING</td>\n",
       "      <td>None</td>\n",
       "      <td>None</td>\n",
       "      <td>[PERFORMANCE_UPGRADE, REAR_HEATED_SEATS]</td>\n",
       "      <td>PAWD</td>\n",
       "    </tr>\n",
       "    <tr>\n",
       "      <th>346</th>\n",
       "      <td>63500</td>\n",
       "      <td>11099</td>\n",
       "      <td>m3</td>\n",
       "      <td>0</td>\n",
       "      <td>PREMIUM_WHITE</td>\n",
       "      <td>2020</td>\n",
       "      <td>AUTOPILOT_FULL_SELF_DRIVING</td>\n",
       "      <td>None</td>\n",
       "      <td>None</td>\n",
       "      <td>[PERFORMANCE_UPGRADE, REAR_HEATED_SEATS]</td>\n",
       "      <td>PAWD</td>\n",
       "    </tr>\n",
       "    <tr>\n",
       "      <th>347</th>\n",
       "      <td>67400</td>\n",
       "      <td>1508</td>\n",
       "      <td>m3</td>\n",
       "      <td>0</td>\n",
       "      <td>PREMIUM_WHITE</td>\n",
       "      <td>2021</td>\n",
       "      <td>AUTOPILOT_FULL_SELF_DRIVING</td>\n",
       "      <td>None</td>\n",
       "      <td>None</td>\n",
       "      <td>[PERFORMANCE_UPGRADE, REAR_HEATED_SEATS]</td>\n",
       "      <td>PAWD</td>\n",
       "    </tr>\n",
       "  </tbody>\n",
       "</table>\n",
       "<p>164 rows × 11 columns</p>\n",
       "</div>"
      ],
      "text/plain": [
       "     TotalPrice  Odometer Model  Discount       INTERIOR  Year  \\\n",
       "184       45000     38224    m3         0  PREMIUM_BLACK  2018   \n",
       "185       46500     24370    m3         0  PREMIUM_BLACK  2018   \n",
       "186       46900     39796    m3         0  PREMIUM_BLACK  2018   \n",
       "187       47600     78032    m3         0  PREMIUM_BLACK  2018   \n",
       "188       47900     39153    m3         0  PREMIUM_WHITE  2019   \n",
       "..          ...       ...   ...       ...            ...   ...   \n",
       "343       59700     14112    m3         0  PREMIUM_BLACK  2018   \n",
       "344       60400     15144    m3         0  PREMIUM_BLACK  2019   \n",
       "345       63100     21040    m3         0  PREMIUM_BLACK  2019   \n",
       "346       63500     11099    m3         0  PREMIUM_WHITE  2020   \n",
       "347       67400      1508    m3         0  PREMIUM_WHITE  2021   \n",
       "\n",
       "                       AUTOPILOT DRIVE DECOR  \\\n",
       "184                    AUTOPILOT  None  None   \n",
       "185                    AUTOPILOT  None  None   \n",
       "186  AUTOPILOT_FULL_SELF_DRIVING  None  None   \n",
       "187  AUTOPILOT_FULL_SELF_DRIVING  None  None   \n",
       "188  AUTOPILOT_FULL_SELF_DRIVING  None  None   \n",
       "..                           ...   ...   ...   \n",
       "343  AUTOPILOT_FULL_SELF_DRIVING  None  None   \n",
       "344  AUTOPILOT_FULL_SELF_DRIVING  None  None   \n",
       "345  AUTOPILOT_FULL_SELF_DRIVING  None  None   \n",
       "346  AUTOPILOT_FULL_SELF_DRIVING  None  None   \n",
       "347  AUTOPILOT_FULL_SELF_DRIVING  None  None   \n",
       "\n",
       "                                     ADL_OPTS   TRIM  \n",
       "184                         REAR_HEATED_SEATS  LRRWD  \n",
       "185                         REAR_HEATED_SEATS  LRRWD  \n",
       "186                         REAR_HEATED_SEATS  MRRWD  \n",
       "187   [ACCELERATION_BOOST, REAR_HEATED_SEATS]  LRAWD  \n",
       "188                         REAR_HEATED_SEATS  M3RWD  \n",
       "..                                        ...    ...  \n",
       "343                         REAR_HEATED_SEATS   PAWD  \n",
       "344   [ACCELERATION_BOOST, REAR_HEATED_SEATS]  LRAWD  \n",
       "345  [PERFORMANCE_UPGRADE, REAR_HEATED_SEATS]   PAWD  \n",
       "346  [PERFORMANCE_UPGRADE, REAR_HEATED_SEATS]   PAWD  \n",
       "347  [PERFORMANCE_UPGRADE, REAR_HEATED_SEATS]   PAWD  \n",
       "\n",
       "[164 rows x 11 columns]"
      ]
     },
     "execution_count": 27,
     "metadata": {},
     "output_type": "execute_result"
    }
   ],
   "source": [
    "car_df[car_df['Model'] == 'm3']\n"
   ]
  },
  {
   "cell_type": "code",
   "execution_count": 28,
   "metadata": {},
   "outputs": [
    {
     "data": {
      "text/plain": [
       "{'adl_AUDIO': 1,\n",
       " 'adl_HEATED_SEAT': 1,\n",
       " 'adl_FILTER': 1,\n",
       " 'adl_AIR_SUS': 1,\n",
       " 'adl_INFOTAINMENT_UPGRADE': 1,\n",
       " 'adl_ACCELERATION_BOOST': 1,\n",
       " 'adl_REAR_HEATED_SEATS': 1,\n",
       " 'adl_PERFORMANCE_UPGRADE': 1}"
      ]
     },
     "execution_count": 28,
     "metadata": {},
     "output_type": "execute_result"
    }
   ],
   "source": [
    "adl_opt_vals = {}\n",
    "for l in car_df.ADL_OPTS.values:\n",
    "    if type(l) == list:\n",
    "        for k in l:\n",
    "            adl_opt_vals[f\"adl_{k}\"] = 1\n",
    "adl_opt_vals"
   ]
  },
  {
   "cell_type": "code",
   "execution_count": 29,
   "metadata": {},
   "outputs": [
    {
     "name": "stderr",
     "output_type": "stream",
     "text": [
      "/home/owleyes/.local/lib/python3.8/site-packages/pandas/core/indexing.py:1732: SettingWithCopyWarning: \n",
      "A value is trying to be set on a copy of a slice from a DataFrame\n",
      "\n",
      "See the caveats in the documentation: https://pandas.pydata.org/pandas-docs/stable/user_guide/indexing.html#returning-a-view-versus-a-copy\n",
      "  self._setitem_single_block(indexer, value, name)\n"
     ]
    }
   ],
   "source": [
    "for k in adl_opt_vals.keys():\n",
    "    car_df[k] = 0\n",
    "for i in range(car_df.shape[0]):\n",
    "    #print(car_df.iloc[i]['ADL_OPTS'])\n",
    "    if type(car_df.iloc[i]['ADL_OPTS']) == list:\n",
    "        for item in car_df.iloc[i]['ADL_OPTS']:\n",
    "            car_df[f\"adl_{item}\"].iloc[i]= 1\n",
    "            \n",
    "    else:\n",
    "        car_df[f\"adl_{car_df.iloc[i]['ADL_OPTS'].strip()}\"].iloc[i] = 1 \n",
    "    "
   ]
  },
  {
   "cell_type": "code",
   "execution_count": 30,
   "metadata": {},
   "outputs": [],
   "source": [
    "car_df.to_csv('car_df.csv')"
   ]
  },
  {
   "cell_type": "code",
   "execution_count": 33,
   "metadata": {},
   "outputs": [
    {
     "data": {
      "text/plain": [
       "75D       88\n",
       "M3RWD     59\n",
       "LRAWD     56\n",
       "MSAWD     47\n",
       "MSPERF    47\n",
       "PAWD      38\n",
       "LRRWD      8\n",
       "MRRWD      4\n",
       "MXAWD      2\n",
       "Name: TRIM, dtype: int64"
      ]
     },
     "execution_count": 33,
     "metadata": {},
     "output_type": "execute_result"
    }
   ],
   "source": [
    "car_df.TRIM.value_counts()"
   ]
  },
  {
   "cell_type": "code",
   "execution_count": null,
   "metadata": {},
   "outputs": [],
   "source": []
  }
 ],
 "metadata": {
  "interpreter": {
   "hash": "b8db8ed4ae5fe9a3127f4606945afce720c4ced09fd58fa0cb0e7032a13358fc"
  },
  "kernelspec": {
   "display_name": "Python 3.8.6 64-bit ('base': conda)",
   "language": "python",
   "name": "python3"
  },
  "language_info": {
   "codemirror_mode": {
    "name": "ipython",
    "version": 3
   },
   "file_extension": ".py",
   "mimetype": "text/x-python",
   "name": "python",
   "nbconvert_exporter": "python",
   "pygments_lexer": "ipython3",
   "version": "3.8.6"
  },
  "orig_nbformat": 4
 },
 "nbformat": 4,
 "nbformat_minor": 2
}
